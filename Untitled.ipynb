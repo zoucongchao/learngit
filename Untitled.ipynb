{
 "cells": [
  {
   "cell_type": "raw",
   "metadata": {},
   "source": [
    "这是一个用支持向量机（SVM)算法分析金融数据的简单策略，不是完善的交易系统，主要用来提供一种思路。"
   ]
  },
  {
   "cell_type": "code",
   "execution_count": null,
   "metadata": {
    "collapsed": true
   },
   "outputs": [],
   "source": [
    "import talib\n",
    "from jqdata import *\n",
    "import pandas as pd\n",
    "import numpy as np \n",
    "from sklearn.svm import SVR"
   ]
  },
  {
   "cell_type": "raw",
   "metadata": {},
   "source": [
    "处理数据，将数据规整为算法需要的向量"
   ]
  },
  {
   "cell_type": "code",
   "execution_count": 2,
   "metadata": {
    "collapsed": false
   },
   "outputs": [],
   "source": [
    "test_stock = '399300.XSHE'\n",
    "start_date = datetime.date(2007,1,4)\n",
    "end_date = datetime.date(2016,6,3)\n",
    "\n",
    "trading_days = get_all_trade_days()\n",
    "trading_days = list(trading_days)\n",
    "start_date_index = trading_days.index(start_date)\n",
    "end_date_index = trading_days.index(end_date)\n",
    "\n",
    "stock_data = get_price(test_stock,start_date=start_date,end_date=end_date,\n",
    "                       frequency='daily',fields=['close','open'])\n",
    "\n",
    "for i in range(1,21,1):\n",
    "    stock_data.loc[:,'close minus'+str(i)] = stock_data['close'].shift(i)\n",
    "    \n",
    "sp20 = stock_data[[x for x in stock_data.columns if 'close minus' in x or x == 'close']].iloc[20:,]\n",
    "sp20 = sp20.iloc[:,::-1]\n"
   ]
  },
  {
   "cell_type": "markdown",
   "metadata": {},
   "source": [
    "数据处理完毕后导入支持向量机对数据进行训练"
   ]
  },
  {
   "cell_type": "code",
   "execution_count": 4,
   "metadata": {
    "collapsed": false
   },
   "outputs": [],
   "source": [
    "clf = SVR(kernel='linear')              #导入支持向量机\n",
    "x_train = sp20[:-1000]                  #训练数据\n",
    "y_train = sp20['close'].shift(-1)[:-1000]\n",
    "\n",
    "x_test = sp20[-1000:]                   #测试数据\n",
    "y_test = sp20['close'].shift(-1)[-1000:]\n",
    "\n",
    "model = clf.fit(x_train,y_train)\n",
    "preds = model.predict(x_test)\n"
   ]
  },
  {
   "cell_type": "code",
   "execution_count": 5,
   "metadata": {
    "collapsed": false
   },
   "outputs": [],
   "source": [
    "tf =pd.DataFrame(list(zip(y_test,preds)),columns=['Next day close','predicted next close'],index= y_test.index)\n",
    "cdc = stock_data[['close']].iloc[-1000:]\n",
    "ndc = stock_data[['open']].iloc[-1000:].shift(-1)\n",
    "tf1 = pd.merge(tf,cdc,left_index=True,right_index = True)\n",
    "tf2 = pd.merge(tf1,ndc,left_index = True,right_index = True)\n",
    "tf2.columns = ['next day close','predicted next close','current day close','next day open']"
   ]
  },
  {
   "cell_type": "raw",
   "metadata": {},
   "source": [
    "将训练后的模型应用到一个简单粗暴的策略，假如预测的第二天的收盘价比开盘价高，以开盘价买入，收盘卖出"
   ]
  },
  {
   "cell_type": "code",
   "execution_count": 6,
   "metadata": {
    "collapsed": false
   },
   "outputs": [],
   "source": [
    "def get_signal(r):\n",
    "    if r['predicted next close'] > r['next day open']:\n",
    "        return 1\n",
    "    else:\n",
    "        return 0\n",
    "    \n",
    "def get_ret(r):\n",
    "    if r['signal'] ==1:\n",
    "        return ((r['next day close'] - r['next day open'])/r['next day open'])*100\n",
    "    else:\n",
    "        return 0\n",
    "    \n",
    "tf2 = tf2.assign(signal = tf2.apply(get_signal,axis=1))\n",
    "tf2 = tf2.assign(pnl = tf2.apply(get_ret,axis=1))"
   ]
  },
  {
   "cell_type": "code",
   "execution_count": 7,
   "metadata": {
    "collapsed": true
   },
   "outputs": [],
   "source": [
    "svmret = (tf2[tf2['signal']==1]['next day close'] - tf2[tf2['signal']==1]['next day open']).sum()"
   ]
  },
  {
   "cell_type": "code",
   "execution_count": 8,
   "metadata": {
    "collapsed": false
   },
   "outputs": [
    {
     "data": {
      "text/plain": [
       "3199.2040000000047"
      ]
     },
     "execution_count": 8,
     "metadata": {},
     "output_type": "execute_result"
    }
   ],
   "source": [
    "svmret"
   ]
  }
 ],
 "metadata": {
  "kernelspec": {
   "display_name": "Python 3",
   "language": "python",
   "name": "python3"
  },
  "language_info": {
   "codemirror_mode": {
    "name": "ipython",
    "version": 3
   },
   "file_extension": ".py",
   "mimetype": "text/x-python",
   "name": "python",
   "nbconvert_exporter": "python",
   "pygments_lexer": "ipython3",
   "version": "3.4.3"
  }
 },
 "nbformat": 4,
 "nbformat_minor": 2
}
